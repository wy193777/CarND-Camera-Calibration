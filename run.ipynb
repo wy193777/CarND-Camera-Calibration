{
 "cells": [
  {
   "cell_type": "code",
   "execution_count": 1,
   "metadata": {},
   "outputs": [
    {
     "data": {
      "text/html": [
       "<style>.container { width:100% !important; }</style>"
      ],
      "text/plain": [
       "<IPython.core.display.HTML object>"
      ]
     },
     "metadata": {},
     "output_type": "display_data"
    }
   ],
   "source": [
    "from laneline import calibrate_camera, cal_undistort, compute_perspective_trans_M\n",
    "from laneline import edge_detect, perspective_trans, find_lines\n",
    "import numpy as np\n",
    "import cv2\n",
    "import glob\n",
    "import matplotlib.pyplot as plt\n",
    "from scipy import misc\n",
    "from os import path\n",
    "from IPython.core.display import display, HTML\n",
    "import pickle\n",
    "display(HTML(\"<style>.container { width:100% !important; }</style>\"))"
   ]
  },
  {
   "cell_type": "markdown",
   "metadata": {},
   "source": [
    "# Generate Edge Images"
   ]
  },
  {
   "cell_type": "code",
   "execution_count": 2,
   "metadata": {
    "collapsed": true
   },
   "outputs": [],
   "source": [
    "objpoints, imgpoints = calibrate_camera(\n",
    "        glob.glob('camera_cal/*.jpg'))"
   ]
  },
  {
   "cell_type": "code",
   "execution_count": 3,
   "metadata": {},
   "outputs": [],
   "source": [
    "two_M = pickle.load(open('matrix.p', \"rb\"))\n",
    "M = two_M['M']\n",
    "Minv = two_M['Minv']\n",
    "\n",
    "def generate_images(in_fnames, out_directory, func):\n",
    "    for fname in in_fnames:\n",
    "        image = misc.imread(fname)\n",
    "        save_path = path.join(out_directory, path.basename(fname))\n",
    "        misc.imsave(save_path, func(image))\n",
    "\n",
    "\n",
    "def persp_binary_trans(img):\n",
    "    return edge_detect(perspective_trans(\n",
    "        cal_undistort(img, objpoints, imgpoints)))[0]\n",
    "\n",
    "\n",
    "def undistort_persp_trans(img):\n",
    "    return perspective_trans(cal_undistort(img, objpoints, imgpoints), M)\n",
    "\n",
    "\n",
    "def undistort_trans(img):\n",
    "    return cal_undistort(img, objpoints, imgpoints)\n",
    "\n",
    "\n",
    "def generate_edge_images():\n",
    "\n",
    "    def binary_trans(img):\n",
    "        return edge_detect(img)\n",
    "    \n",
    "#     generate_images(\n",
    "#         glob.glob('./test_images/**'),\n",
    "#         './output_images/test_images_birds_eye/',\n",
    "#         undistort_persp_trans)\n",
    "\n",
    "    generate_images(\n",
    "        glob.glob('./output_images/test_images_birds_eye/**'),\n",
    "        './output_images/test_images_binary', binary_trans)\n",
    "    \n",
    "\n",
    "generate_edge_images()"
   ]
  },
  {
   "cell_type": "code",
   "execution_count": null,
   "metadata": {
    "collapsed": true
   },
   "outputs": [],
   "source": []
  },
  {
   "cell_type": "code",
   "execution_count": null,
   "metadata": {
    "collapsed": true
   },
   "outputs": [],
   "source": []
  }
 ],
 "metadata": {
  "kernelspec": {
   "display_name": "Python 3",
   "language": "python",
   "name": "python3"
  },
  "language_info": {
   "codemirror_mode": {
    "name": "ipython",
    "version": 3
   },
   "file_extension": ".py",
   "mimetype": "text/x-python",
   "name": "python",
   "nbconvert_exporter": "python",
   "pygments_lexer": "ipython3",
   "version": "3.5.2"
  },
  "widgets": {
   "state": {},
   "version": "1.1.2"
  }
 },
 "nbformat": 4,
 "nbformat_minor": 2
}
